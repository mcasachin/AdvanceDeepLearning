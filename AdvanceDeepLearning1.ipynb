{
    "cells": [
        {
            "cell_type": "markdown",
            "id": "ed416bdf-8bed-4199-bbdc-5eb9a8a40e48",
            "metadata": {},
            "source": [
                "Day 1 23 Nov Objective - If we reshape and flatten a image for nural n/w processing it does not cloose it original details\n",
                "Step 1 Loading Digit dataset from skleardataset having  image and target(value of digit in image) column\n",
                "Step 2 Flatten the image of 8*8 to 1*64 using reshape function\n",
                "Step 3 create a MLP classifier with 3 layesrs with nurons of 350,200 and 50, fit and predcit the model.\n",
                "Step 4 Prediction is same as actual output "
            ]
        },
        {
            "cell_type": "code",
            "execution_count": 14,
            "id": "afa02443-5f4e-425e-9d2e-d3b2c975cc33",
            "metadata": {},
            "outputs": [],
            "source": [
                "from sklearn.datasets import load_digits\n",
                "from sklearn.neural_network import MLPClassifier\n",
                "from sklearn.model_selection import train_test_split\n",
                "\n",
                "import numpy as np\n",
                "import matplotlib.pyplot as plt\n",
                "\n",
                "dt = load_digits(n_class=3) \n",
                "#n_class=3 parameter specifies that only the first three classes (digits 0, 1, and 2) should be loaded.\n",
                "\n",
                "X = dt.images\n",
                "YY = dt.target\n",
                "trainX, testX, trainY, testY = train_test_split(X,YY)\n",
                "\n",
                "XX = X.reshape(537,64)\n",
                "\n",
                "mod = MLPClassifier((350,200,50))\n",
                "mod.fit(XX,YY)\n",
                "mod.predict(XX)\n"
            ]
        },
        {
            "cell_type": "markdown",
            "id": "26ffee22-4ff0-45de-afe3-cbc88dd74caa",
            "metadata": {},
            "source": [
                "Day 2 24Nov Objective we can reshape or resize or convert the image to grey or color image using opencv and after modification the flatten image processing with nural n/w does not loose it original details\n",
                "Step 1 Take a zip of image , unzip it , rezie it convert to grey, and then try to predict the image with Open CV\n"
            ]
        },
        {
            "cell_type": "code",
            "execution_count": 11,
            "id": "131f7e36-f482-46dc-91ec-7a27e29b29f2",
            "metadata": {},
            "outputs": [],
            "source": [
                "import cv2\n",
                "from sklearn.datasets import load_digits\n",
                "from sklearn.neural_network import MLPClassifier\n",
                "import numpy as np\n",
                "import matplotlib.pyplot as plt\n",
                "\n",
                "import zipfile\n",
                "import os\n",
                "\n",
                "with zipfile.ZipFile('AdvanceDeepLearningnewpictures1.zip', 'r') as f:\n",
                "    f.extractall('NewPictures')\n",
                "    path = 'NewPictures/NewPictures/'\n",
                "ar = np.zeros((1,28*28))\n",
                "Y = [0,1,0,1,0,1,0,1]\n",
                "\n",
                "for f in os.listdir(path):\n",
                "    ars = cv2.imread(path + f)\n",
                "    rszar = cv2.resize(ars, (28,28))\n",
                "    grar = cv2.cvtColor(rszar, cv2.COLOR_BGR2GRAY)\n",
                "    rshp = grar.reshape(1, 28*28)\n",
                "    ar = np.vstack([ar, rshp])\n",
                "\n",
                "# print(grar.shape)\n",
                "finalX = np.delete(ar, 0, 0)\n",
                "from sklearn.naive_bayes import GaussianNB\n",
                "mdl = GaussianNB()\n",
                "mdl.fit(finalX, Y)\n",
                "\n",
                "mdl.predict(finalX)"
            ]
        },
        {
            "cell_type": "markdown",
            "id": "72702897-2f9e-4ae6-af18-b0d654568873",
            "metadata": {},
            "source": [
                "Day 3- 30Nov- Objective we can reshape or resize or convert the image to grey or color image using opencv and after modification the flatten image processing with nural n/w does not loose it original details\n",
                "Step 1 Take a zip of image , unzip it , rezie it convert to grey, and then try to predict the image with Open CV"
            ]
        }
    ],
    "metadata": {
        "kernelspec": {
            "display_name": "Python 3 [3.10]",
            "language": "python",
            "name": "python3"
        },
        "language_info": {
            "codemirror_mode": {
                "name": "ipython",
                "version": 3
            },
            "file_extension": ".py",
            "mimetype": "text/x-python",
            "name": "python",
            "nbconvert_exporter": "python",
            "pygments_lexer": "ipython3",
            "version": "3.10.2"
        }
    },
    "nbformat": 4,
    "nbformat_minor": 5
}