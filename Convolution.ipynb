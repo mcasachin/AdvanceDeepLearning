{
  "nbformat": 4,
  "nbformat_minor": 0,
  "metadata": {
    "colab": {
      "provenance": []
    },
    "kernelspec": {
      "name": "python3",
      "display_name": "Python 3"
    },
    "language_info": {
      "name": "python"
    }
  },
  "cells": [
    {
      "cell_type": "code",
      "source": [
        "import numpy as np"
      ],
      "metadata": {
        "id": "KAZ0y3gVKlfs"
      },
      "execution_count": null,
      "outputs": []
    },
    {
      "cell_type": "code",
      "source": [
        "ar = np.array([3,5,6,2,1,5])"
      ],
      "metadata": {
        "id": "Rvo6LSyHKoKA"
      },
      "execution_count": null,
      "outputs": []
    },
    {
      "cell_type": "code",
      "source": [
        "np.convolve(ar, [1,2,1])"
      ],
      "metadata": {
        "colab": {
          "base_uri": "https://localhost:8080/"
        },
        "id": "m5dkCZXFK5Wb",
        "outputId": "822a3bbf-e85f-4508-f8d7-5f7c0f566ff1"
      },
      "execution_count": null,
      "outputs": [
        {
          "output_type": "execute_result",
          "data": {
            "text/plain": [
              "array([ 3, 11, 19, 19, 11,  9, 11,  5])"
            ]
          },
          "metadata": {},
          "execution_count": 4
        }
      ]
    },
    {
      "cell_type": "code",
      "execution_count": null,
      "metadata": {
        "id": "bfP3V5r84-1p"
      },
      "outputs": [],
      "source": [
        "from sklearn.datasets import load_iris, load_digits"
      ]
    },
    {
      "cell_type": "code",
      "source": [
        "dt = load_digits(n_class=3)"
      ],
      "metadata": {
        "id": "fDku2Oix7PjW"
      },
      "execution_count": null,
      "outputs": []
    },
    {
      "cell_type": "code",
      "source": [
        "X = dt.images\n",
        "Y = dt.target"
      ],
      "metadata": {
        "id": "8OWiRQYX7RuU"
      },
      "execution_count": null,
      "outputs": []
    },
    {
      "cell_type": "code",
      "source": [
        "X = X.reshape(537,1,8,8)"
      ],
      "metadata": {
        "id": "X4g8VTn8-Yom"
      },
      "execution_count": null,
      "outputs": []
    },
    {
      "cell_type": "code",
      "source": [
        "import torch\n",
        "import torch.nn as nn"
      ],
      "metadata": {
        "id": "YLj7CJ6E7URf"
      },
      "execution_count": null,
      "outputs": []
    },
    {
      "cell_type": "code",
      "source": [
        "from torch.optim import Adam"
      ],
      "metadata": {
        "id": "UgGb2SVO9bUN"
      },
      "execution_count": null,
      "outputs": []
    },
    {
      "cell_type": "code",
      "source": [
        "X = torch.FloatTensor(X)\n",
        "Y = torch.LongTensor(Y)"
      ],
      "metadata": {
        "id": "ZZl3oYFR7cAM"
      },
      "execution_count": null,
      "outputs": []
    },
    {
      "cell_type": "code",
      "source": [
        "X.shape"
      ],
      "metadata": {
        "colab": {
          "base_uri": "https://localhost:8080/"
        },
        "id": "A3zch2qy8nlX",
        "outputId": "e343b65a-006e-4143-d081-8c7a0c8e78b7"
      },
      "execution_count": null,
      "outputs": [
        {
          "output_type": "execute_result",
          "data": {
            "text/plain": [
              "torch.Size([537, 1, 8, 8])"
            ]
          },
          "metadata": {},
          "execution_count": 8
        }
      ]
    },
    {
      "cell_type": "code",
      "source": [
        "model = nn.Sequential(\n",
        "    nn.Conv2d(1, 32, kernel_size=3, stride=1, padding=1),\n",
        "    nn.ReLU(),\n",
        "    nn.MaxPool2d(kernel_size=2, stride=2),\n",
        "    nn.Conv2d(32, 64, kernel_size=3, stride=1, padding=1),\n",
        "    nn.ReLU(),\n",
        "    nn.MaxPool2d(kernel_size=2, stride=2),\n",
        "    nn.Flatten(),\n",
        "    nn.Linear(64*2*2, 128),\n",
        "    nn.ReLU(),\n",
        "    nn.Linear(128, 3)\n",
        ")"
      ],
      "metadata": {
        "id": "mfgUeCKX7vNx"
      },
      "execution_count": null,
      "outputs": []
    },
    {
      "cell_type": "code",
      "source": [
        "loss = nn.CrossEntropyLoss()\n",
        "opt = Adam(model.parameters(), lr=0.001)"
      ],
      "metadata": {
        "id": "mb5nmcDQ8_D5"
      },
      "execution_count": null,
      "outputs": []
    },
    {
      "cell_type": "code",
      "source": [
        "c=0\n",
        "for epoch in range(100):\n",
        "    c=c+1\n",
        "    opt.zero_grad()\n",
        "    yp = model(X)\n",
        "    ls = loss(yp, Y)\n",
        "    ls.backward()\n",
        "    opt.step()\n",
        "    if c%10==0:\n",
        "      print(ls.item())"
      ],
      "metadata": {
        "colab": {
          "base_uri": "https://localhost:8080/"
        },
        "id": "q_CRQbhU9Nts",
        "outputId": "1fa52439-da1b-4e6a-b57c-a3f3bf033d31"
      },
      "execution_count": null,
      "outputs": [
        {
          "output_type": "stream",
          "name": "stdout",
          "text": [
            "0.2401648759841919\n",
            "0.04851548746228218\n",
            "0.015423991717398167\n",
            "0.006055758334696293\n",
            "0.0030292212031781673\n",
            "0.0019698787946254015\n",
            "0.0014256052672863007\n",
            "0.0011132900835946202\n",
            "0.0009145036456175148\n",
            "0.0007725568721070886\n"
          ]
        }
      ]
    },
    {
      "cell_type": "code",
      "source": [
        "# Class based Model"
      ],
      "metadata": {
        "id": "wRrRmWmWHebp"
      },
      "execution_count": null,
      "outputs": []
    },
    {
      "cell_type": "code",
      "source": [
        "class MyNet(nn.Module):\n",
        "  def __init__(sf):\n",
        "    super().__init__()\n",
        "    sf.conv1 = nn.Conv2d(1, 32, kernel_size=3, stride=1, padding=1)\n",
        "    sf.max1 = nn.MaxPool2d(kernel_size=2, stride=2)\n",
        "    sf.conv2 = nn.Conv2d(32, 64, kernel_size=3, stride=1, padding=1)\n",
        "    sf.max2 = nn.MaxPool2d(kernel_size=2, stride=2)\n",
        "    sf.flatten = nn.Flatten()\n",
        "    sf.linear1 = nn.Linear(64*2*2, 128)\n",
        "    sf.linear2 = nn.Linear(128, 3)\n",
        "\n",
        "  def forward(sf, x):\n",
        "    x = sf.conv1(x)\n",
        "    x = sf.max1(x)\n",
        "    x = sf.conv2(x)\n",
        "    x = sf.max2(x)"
      ],
      "metadata": {
        "id": "nrKWJOnW95TW"
      },
      "execution_count": null,
      "outputs": []
    }
  ]
}