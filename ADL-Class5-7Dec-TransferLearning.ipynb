{
 "cells": [
  {
   "cell_type": "code",
   "execution_count": 1,
   "id": "9e144d4a-04a9-4756-8225-af436cf63eb1",
   "metadata": {},
   "outputs": [],
   "source": [
    "import torch\n",
    "import torch.nn as nn\n",
    "\n",
    "from torch.optim import Adam"
   ]
  },
  {
   "cell_type": "code",
   "execution_count": 55,
   "id": "76e3288c-de7b-40fa-9b75-141e9d2b9198",
   "metadata": {},
   "outputs": [],
   "source": [
    "import cv2\n",
    "import numpy as np"
   ]
  },
  {
   "cell_type": "code",
   "execution_count": 3,
   "id": "0422d1b6-7906-4d98-943f-02fe68916df8",
   "metadata": {},
   "outputs": [],
   "source": [
    "# !pip install torchvision\n",
    "from torchvision import models"
   ]
  },
  {
   "cell_type": "code",
   "execution_count": 16,
   "id": "d2a532ba-f275-4b88-b1e0-f4d9eca19974",
   "metadata": {},
   "outputs": [
    {
     "name": "stderr",
     "output_type": "stream",
     "text": [
      "/usr/local/lib/python3.10/site-packages/torchvision/models/_utils.py:208: UserWarning: The parameter 'pretrained' is deprecated since 0.13 and may be removed in the future, please use 'weights' instead.\n",
      "  warnings.warn(\n",
      "/usr/local/lib/python3.10/site-packages/torchvision/models/_utils.py:223: UserWarning: Arguments other than a weight enum or `None` for 'weights' are deprecated since 0.13 and may be removed in the future. The current behavior is equivalent to passing `weights=VGG16_Weights.IMAGENET1K_V1`. You can also use `weights=VGG16_Weights.DEFAULT` to get the most up-to-date weights.\n",
      "  warnings.warn(msg)\n"
     ]
    }
   ],
   "source": [
    "mod = models.vgg16(pretrained=True)"
   ]
  },
  {
   "cell_type": "code",
   "execution_count": 17,
   "id": "760e7846-e3b8-476c-8c80-096ba737d9a1",
   "metadata": {},
   "outputs": [],
   "source": [
    "# mod = models.VGG16_Weights.IMAGENET1K_V1"
   ]
  },
  {
   "cell_type": "code",
   "execution_count": 38,
   "id": "3d21775f-6499-42c8-b6eb-50729439461e",
   "metadata": {},
   "outputs": [],
   "source": [
    "# mod"
   ]
  },
  {
   "cell_type": "code",
   "execution_count": 20,
   "id": "f87f8395-8d1d-4a33-9f9c-95d3a829c2ae",
   "metadata": {},
   "outputs": [],
   "source": [
    "mod.classifier[6] = nn.Linear(4096, 2)"
   ]
  },
  {
   "cell_type": "code",
   "execution_count": 23,
   "id": "3c5a090f-6f2d-42cf-a7a6-61b1b8981e6d",
   "metadata": {},
   "outputs": [],
   "source": [
    "# mod"
   ]
  },
  {
   "cell_type": "code",
   "execution_count": 26,
   "id": "2b06179d-57a6-4cc0-a211-49557990da15",
   "metadata": {},
   "outputs": [],
   "source": [
    "c=0\n",
    "for k in mod.parameters():\n",
    "    c=c+1\n",
    "    # print(k.shape)"
   ]
  },
  {
   "cell_type": "code",
   "execution_count": 35,
   "id": "5d37220f-74f9-4fb2-8cb2-85f96df4c2b5",
   "metadata": {},
   "outputs": [],
   "source": [
    "for n, p in mod.named_parameters():\n",
    "    if n == 'classifier.6.weight' or n == 'classifier.6.bias':\n",
    "        p.requires_grad = True\n",
    "    else:\n",
    "        p.requires_grad = False"
   ]
  },
  {
   "cell_type": "code",
   "execution_count": 37,
   "id": "207130e9-599f-4bc2-9eb1-f9a38b64ca13",
   "metadata": {},
   "outputs": [],
   "source": [
    "# for n, p in mod.named_parameters():\n",
    "#     print(p.requires_grad)"
   ]
  },
  {
   "cell_type": "code",
   "execution_count": 41,
   "id": "7f9bcbbe-06d3-449c-8493-0b25d0a0d441",
   "metadata": {},
   "outputs": [],
   "source": [
    "lossfn = nn.CrossEntropyLoss()\n",
    "opt = Adam(mod.parameters(), lr=0.01)"
   ]
  },
  {
   "cell_type": "code",
   "execution_count": null,
   "id": "c9e821ee-2e8a-4fb1-9b0e-8b5acbbfeebe",
   "metadata": {},
   "outputs": [],
   "source": [
    "X.shape = #images, 3, 224, 224"
   ]
  },
  {
   "cell_type": "code",
   "execution_count": 43,
   "id": "7af0b649-7f08-4dfa-bfbc-3b7ae681f76f",
   "metadata": {},
   "outputs": [],
   "source": [
    "import os"
   ]
  },
  {
   "cell_type": "code",
   "execution_count": 48,
   "id": "474dd9d8-0259-4878-93c7-3201446b5fea",
   "metadata": {},
   "outputs": [],
   "source": [
    "path = 'NewPictures/NewPictures/'"
   ]
  },
  {
   "cell_type": "code",
   "execution_count": 56,
   "id": "419fda53-4bb6-4b62-809e-5d4571a1af48",
   "metadata": {},
   "outputs": [],
   "source": [
    "ar = np.zeros((1,3,224,224))"
   ]
  },
  {
   "cell_type": "code",
   "execution_count": 57,
   "id": "4369c1cb-dd31-4d09-b444-f5dcb755c49c",
   "metadata": {},
   "outputs": [],
   "source": [
    "ar = np.zeros((1,3,224,224))\n",
    "for k in os.listdir(path):\n",
    "    image = cv2.imread(path+k)\n",
    "    rsz = cv2.resize(image, (224, 224))\n",
    "    nim = rsz.reshape(1, 3, 224, 224)\n",
    "    ar = np.vstack([ar, nim])"
   ]
  },
  {
   "cell_type": "code",
   "execution_count": 60,
   "id": "fa4e1576-a728-4084-b604-3db3aa7767a9",
   "metadata": {},
   "outputs": [],
   "source": [
    "X = np.delete(ar,0,0)"
   ]
  },
  {
   "cell_type": "code",
   "execution_count": 61,
   "id": "3b9a4b43-153b-4b17-8c75-727eee2cfa12",
   "metadata": {},
   "outputs": [
    {
     "data": {
      "text/plain": [
       "(8, 3, 224, 224)"
      ]
     },
     "execution_count": 61,
     "metadata": {},
     "output_type": "execute_result"
    }
   ],
   "source": [
    "X.shape"
   ]
  },
  {
   "cell_type": "code",
   "execution_count": 64,
   "id": "7ab8b3a4-dd6b-4aa8-a6dd-789b271eb3f5",
   "metadata": {},
   "outputs": [],
   "source": [
    "y = [0,1,0,1,0,1,0,1]"
   ]
  },
  {
   "cell_type": "code",
   "execution_count": 66,
   "id": "b31bf06e-7cad-4eff-a6fb-f81b63769b87",
   "metadata": {},
   "outputs": [],
   "source": [
    "X = torch.FloatTensor(X)\n",
    "Y = torch.LongTensor(y)"
   ]
  },
  {
   "cell_type": "code",
   "execution_count": 67,
   "id": "15b3be68-a2e6-40fe-962b-63742a768495",
   "metadata": {},
   "outputs": [
    {
     "name": "stdout",
     "output_type": "stream",
     "text": [
      "3.7850701808929443\n",
      "95.56471252441406\n",
      "63.670745849609375\n",
      "16.771839141845703\n",
      "28.51412582397461\n",
      "39.93046569824219\n",
      "29.120670318603516\n",
      "1.8253546953201294\n",
      "2.8441028594970703\n",
      "10.236745834350586\n"
     ]
    }
   ],
   "source": [
    "for k in range(10):\n",
    "    opt.zero_grad()\n",
    "    Yp = mod(X)\n",
    "    loss = lossfn(Yp, Y)\n",
    "    loss.backward()\n",
    "    opt.step()\n",
    "    print(loss.item())"
   ]
  },
  {
   "cell_type": "code",
   "execution_count": 72,
   "id": "6e035ac9-2f4a-40ed-accf-85e99788c03a",
   "metadata": {},
   "outputs": [],
   "source": [
    "testimg = cv2.imread('NewPictures/NewPictures/tom3.jpg')"
   ]
  },
  {
   "cell_type": "code",
   "execution_count": 74,
   "id": "bb2a6bfc-ab9a-4953-94eb-ebf7dcd41c11",
   "metadata": {},
   "outputs": [],
   "source": [
    "testnew = cv2.resize(testimg, (224, 224))"
   ]
  },
  {
   "cell_type": "code",
   "execution_count": 75,
   "id": "219b70eb-66c8-4343-ae6e-b09a58fc6649",
   "metadata": {},
   "outputs": [],
   "source": [
    "testX = testnew.reshape(1,3, 224,224)"
   ]
  },
  {
   "cell_type": "code",
   "execution_count": 77,
   "id": "b3cc9361-4854-4915-ae9a-cf9c895dd01e",
   "metadata": {},
   "outputs": [],
   "source": [
    "testX = torch.FloatTensor(testX)"
   ]
  },
  {
   "cell_type": "code",
   "execution_count": 83,
   "id": "ab86a29e-44de-42d0-8ebb-fae14dd94479",
   "metadata": {},
   "outputs": [
    {
     "data": {
      "text/plain": [
       "tensor([0])"
      ]
     },
     "execution_count": 83,
     "metadata": {},
     "output_type": "execute_result"
    }
   ],
   "source": [
    "torch.argmax(mod(testX), dim=1)"
   ]
  },
  {
   "cell_type": "code",
   "execution_count": null,
   "id": "ee5258a8-9f54-41c8-846e-8801a5364352",
   "metadata": {},
   "outputs": [],
   "source": []
  }
 ],
 "metadata": {
  "kernelspec": {
   "display_name": "Python 3 [3.10]",
   "language": "python",
   "name": "python3"
  },
  "language_info": {
   "codemirror_mode": {
    "name": "ipython",
    "version": 3
   },
   "file_extension": ".py",
   "mimetype": "text/x-python",
   "name": "python",
   "nbconvert_exporter": "python",
   "pygments_lexer": "ipython3",
   "version": "3.10.2"
  }
 },
 "nbformat": 4,
 "nbformat_minor": 5
}
